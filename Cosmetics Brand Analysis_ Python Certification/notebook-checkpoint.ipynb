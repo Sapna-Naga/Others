{
 "cells": [
  {
   "cell_type": "markdown",
   "metadata": {
    "dc": {
     "key": "4"
    },
    "deletable": false,
    "editable": false,
    "run_control": {
     "frozen": true
    },
    "tags": [
     "context"
    ]
   },
   "source": [
    "## Cosmetics Brand Analysis\n",
    "<p>The cosmetics industry is a 50 billion-dollar-a-year business in the US alone. Cosmetics sales are even used as an indicator for economic recessions (i.e., the \"lipstick index\").</p>\n",
    "<p>You are working for a cosmetics start-up that plans to launch a new line of organic products. The launch will focus on the following cosmetics categories: fragrances, makeup, and skincare. Your task is to find the average prices for four competitor brands across these three categories. </p>\n",
    "<p>You will be using data collected from Sephora's global store in your analysis. However, there are some additional requirements before you can present the results:</p>\n",
    "<ul>\n",
    "<li>The data available is unprocessed as received from Sephora. The start-up requests the categories as follows:</li>\n",
    "</ul>\n",
    "<table>\n",
    "<thead>\n",
    "<tr>\n",
    "<th>New category</th>\n",
    "<th style=\"text-align:left;\">Existing categories to reclassify</th>\n",
    "</tr>\n",
    "</thead>\n",
    "<tbody>\n",
    "<tr>\n",
    "<td>Fragrance</td>\n",
    "<td style=\"text-align:left;\">Perfume, Cologne</td>\n",
    "</tr>\n",
    "<tr>\n",
    "<td>Makeup</td>\n",
    "<td style=\"text-align:left;\">Eye Palettes, Lipstick, Highlighter, Foundation, Mascara, Eyeliner, Makeup, Eyeshadow</td>\n",
    "</tr>\n",
    "<tr>\n",
    "<td>Skincare</td>\n",
    "<td style=\"text-align:left;\">Moisturizers, Face Serums, Face Wash &amp; Cleansers, Face Masks, Face Primer, Body Lotions &amp; Body Oils,  Lotions &amp; Oils</td>\n",
    "</tr>\n",
    "</tbody>\n",
    "</table>\n",
    "<ul>\n",
    "<li><p>Currently, it is unclear who the primary competitors are. Find the top four brands by the combined number of fragrance, makeup, and skincare products produced.</p></li>\n",
    "<li><p>Exclude any products containing the toxic ingredient \"toluene\" from your analysis. Assume products with no ingredient information do not contain \"toluene\".</p></li>\n",
    "<li><p>Product prices should be compared in USD. Below are the conversions for currencies found in the dataset:</p>\n",
    "<ul>\n",
    "<li>1 EUR = 1.22 USD</li>\n",
    "<li>1 GBP = 1.42 USD</li>\n",
    "<li>1 Yen = 0.01 USD</li></ul></li>\n",
    "</ul>\n",
    "<hr>\n",
    "<p><em>The datasets available are listed below:</em></p>\n",
    "<div style=\"background-color: #efebe4; color: #05192d; text-align:left; vertical-align: middle; padding: 15px 25px 15px 25px; line-height: 1.6;\">\n",
    "    <div style=\"font-size:16px\"><b>datasets/cosmetics.csv - Catalogue of cosmetics products, including brand, category, price, and other characteristics</b>\n",
    "    </div>\n",
    "    <div>Source: <a href=\"https://www.kaggle.com/raghadalharbi/all-products-available-on-sephora-website/version/1\">Kaggle</a></div>\n",
    "<ul>\n",
    "    <li><b>id: </b>The product id.</li>\n",
    "    <li><b>brand: </b>The brand.</li>\n",
    "    <li><b>category: </b>The category of product.</li>\n",
    "    <li><b>name: </b>The name of the product.</li>\n",
    "    <li><b>size: </b>The size of the product.</li>\n",
    "    <li><b>price: </b>The price of the product (in various currencies).</li>\n",
    "    <li><b>rating: </b>The consumer rating of the product.</li>\n",
    "    <li><b>how_to_use: </b>Instructions for the product.</li>\n",
    "    <li><b>online_only: </b>Whether or not the product is online-exclusive.</li>\n",
    "    <li><b>limited_edition: </b>Whether or not the product is limited edition.</li>\n",
    "</ul>\n",
    "    </div>\n",
    "<div style=\"background-color: #efebe4; color: #05192d; text-align:left; vertical-align: middle; padding: 15px 25px 15px 25px; line-height: 1.6; margin-top: 17px;\">\n",
    "    <div style=\"font-size:16px\"><b>datasets/ingredients.txt - A tab-delimited file containing the product IDs and ingredients for products in the cosmetics dataset</b>\n",
    "    </div>\n",
    "    <div>Source: <a href=\"https://www.kaggle.com/raghadalharbi/all-products-available-on-sephora-website/version/1\">Kaggle</a></div>\n",
    "<ul>\n",
    "    <li><b>product_id: </b>The product id (corresponding to the id column in the cosmetics dataset).</li>\n",
    "    <li><b>ingredients: </b>The list of ingredients in the product.</li> \n",
    "</ul>\n",
    "    </div>\n",
    "<div style=\"background-color: #efebe4; color: #05192d; text-align:left; vertical-align: middle; padding: 15px 25px 15px 25px; line-height: 1.6; margin-top: 17px;\">\n",
    "    <div style=\"font-size:16px\"><b>datasets/cosmetics_categories.csv - Table containing the sub and broad categories for recategorization</b>\n",
    "    </div>\n",
    "<ul>\n",
    "    <li><b>sub_category: </b>The sub categories that exist in the cosmetics CSV that need to be recategorized.</li>\n",
    "    <li><b>broad_category: </b>The corresponding broader category to which the sub_category belongs to and needs to be recategorized as.</li> \n",
    "</ul>\n",
    "    </div>"
   ]
  },
  {
   "cell_type": "code",
   "execution_count": 35,
   "metadata": {
    "collapsed": true,
    "dc": {
     "key": "4"
    },
    "tags": [
     "sample_code"
    ]
   },
   "outputs": [],
   "source": [
    "# Use this cell to begin your analysis, and add as many as you would like!"
   ]
  },
  {
   "cell_type": "code",
   "execution_count": 36,
   "metadata": {
    "collapsed": true,
    "dc": {
     "key": "4"
    }
   },
   "outputs": [],
   "source": [
    "import pandas as pd\n",
    "cosmetics = pd.read_csv('datasets/cosmetics.csv')\n",
    "ingredients = pd.read_csv('datasets/ingredients.txt',sep=\"\\t\")\n",
    "cos_cat = pd.read_csv(\"datasets/cosmetics_categories.csv\")"
   ]
  },
  {
   "cell_type": "code",
   "execution_count": 37,
   "metadata": {
    "dc": {
     "key": "4"
    },
    "scrolled": true
   },
   "outputs": [
    {
     "data": {
      "text/html": [
       "<div>\n",
       "<style scoped>\n",
       "    .dataframe tbody tr th:only-of-type {\n",
       "        vertical-align: middle;\n",
       "    }\n",
       "\n",
       "    .dataframe tbody tr th {\n",
       "        vertical-align: top;\n",
       "    }\n",
       "\n",
       "    .dataframe thead th {\n",
       "        text-align: right;\n",
       "    }\n",
       "</style>\n",
       "<table border=\"1\" class=\"dataframe\">\n",
       "  <thead>\n",
       "    <tr style=\"text-align: right;\">\n",
       "      <th></th>\n",
       "      <th>id</th>\n",
       "      <th>brand</th>\n",
       "      <th>category</th>\n",
       "      <th>name</th>\n",
       "      <th>size</th>\n",
       "      <th>price</th>\n",
       "      <th>rating</th>\n",
       "      <th>how_to_use</th>\n",
       "      <th>online_only</th>\n",
       "      <th>limited_edition</th>\n",
       "    </tr>\n",
       "  </thead>\n",
       "  <tbody>\n",
       "    <tr>\n",
       "      <th>0</th>\n",
       "      <td>2218774</td>\n",
       "      <td>Acqua Di Parma</td>\n",
       "      <td>Perfume</td>\n",
       "      <td>Blu Mediterraneo MINIATURE Set</td>\n",
       "      <td>5 x 0.16oz/5mL</td>\n",
       "      <td>USD 66</td>\n",
       "      <td>4.0</td>\n",
       "      <td>Suggested Usage:-Fragrance is intensified by t...</td>\n",
       "      <td>1</td>\n",
       "      <td>0</td>\n",
       "    </tr>\n",
       "    <tr>\n",
       "      <th>1</th>\n",
       "      <td>2044816</td>\n",
       "      <td>Acqua Di Parma</td>\n",
       "      <td>Cologne</td>\n",
       "      <td>Colonia</td>\n",
       "      <td>0.7 oz/ 20 mL</td>\n",
       "      <td>USD 66</td>\n",
       "      <td>4.5</td>\n",
       "      <td>no instructions</td>\n",
       "      <td>1</td>\n",
       "      <td>0</td>\n",
       "    </tr>\n",
       "    <tr>\n",
       "      <th>2</th>\n",
       "      <td>1417567</td>\n",
       "      <td>Acqua Di Parma</td>\n",
       "      <td>Perfume</td>\n",
       "      <td>Arancia di Capri</td>\n",
       "      <td>5 oz/ 148 mL</td>\n",
       "      <td>USD 180</td>\n",
       "      <td>4.5</td>\n",
       "      <td>no instructions</td>\n",
       "      <td>1</td>\n",
       "      <td>0</td>\n",
       "    </tr>\n",
       "    <tr>\n",
       "      <th>3</th>\n",
       "      <td>1417617</td>\n",
       "      <td>Acqua Di Parma</td>\n",
       "      <td>Perfume</td>\n",
       "      <td>Mirto di Panarea</td>\n",
       "      <td>2.5 oz/ 74 mL</td>\n",
       "      <td>USD 120</td>\n",
       "      <td>4.5</td>\n",
       "      <td>no instructions</td>\n",
       "      <td>1</td>\n",
       "      <td>0</td>\n",
       "    </tr>\n",
       "    <tr>\n",
       "      <th>4</th>\n",
       "      <td>2218766</td>\n",
       "      <td>Acqua Di Parma</td>\n",
       "      <td>Perfume</td>\n",
       "      <td>Colonia Miniature Set</td>\n",
       "      <td>5 x 0.16oz/5mL</td>\n",
       "      <td>USD 72</td>\n",
       "      <td>3.5</td>\n",
       "      <td>Suggested Usage:-Fragrance is intensified by t...</td>\n",
       "      <td>1</td>\n",
       "      <td>0</td>\n",
       "    </tr>\n",
       "  </tbody>\n",
       "</table>\n",
       "</div>"
      ],
      "text/plain": [
       "        id           brand category                            name  \\\n",
       "0  2218774  Acqua Di Parma  Perfume  Blu Mediterraneo MINIATURE Set   \n",
       "1  2044816  Acqua Di Parma  Cologne                         Colonia   \n",
       "2  1417567  Acqua Di Parma  Perfume                Arancia di Capri   \n",
       "3  1417617  Acqua Di Parma  Perfume                Mirto di Panarea   \n",
       "4  2218766  Acqua Di Parma  Perfume           Colonia Miniature Set   \n",
       "\n",
       "             size    price  rating  \\\n",
       "0  5 x 0.16oz/5mL   USD 66     4.0   \n",
       "1   0.7 oz/ 20 mL   USD 66     4.5   \n",
       "2    5 oz/ 148 mL  USD 180     4.5   \n",
       "3   2.5 oz/ 74 mL  USD 120     4.5   \n",
       "4  5 x 0.16oz/5mL   USD 72     3.5   \n",
       "\n",
       "                                          how_to_use  online_only  \\\n",
       "0  Suggested Usage:-Fragrance is intensified by t...            1   \n",
       "1                                    no instructions            1   \n",
       "2                                    no instructions            1   \n",
       "3                                    no instructions            1   \n",
       "4  Suggested Usage:-Fragrance is intensified by t...            1   \n",
       "\n",
       "   limited_edition  \n",
       "0                0  \n",
       "1                0  \n",
       "2                0  \n",
       "3                0  \n",
       "4                0  "
      ]
     },
     "execution_count": 37,
     "metadata": {},
     "output_type": "execute_result"
    }
   ],
   "source": [
    "cosmetics.head()"
   ]
  },
  {
   "cell_type": "code",
   "execution_count": 38,
   "metadata": {
    "dc": {
     "key": "4"
    },
    "scrolled": true
   },
   "outputs": [
    {
     "data": {
      "text/html": [
       "<div>\n",
       "<style scoped>\n",
       "    .dataframe tbody tr th:only-of-type {\n",
       "        vertical-align: middle;\n",
       "    }\n",
       "\n",
       "    .dataframe tbody tr th {\n",
       "        vertical-align: top;\n",
       "    }\n",
       "\n",
       "    .dataframe thead th {\n",
       "        text-align: right;\n",
       "    }\n",
       "</style>\n",
       "<table border=\"1\" class=\"dataframe\">\n",
       "  <thead>\n",
       "    <tr style=\"text-align: right;\">\n",
       "      <th></th>\n",
       "      <th>product_id</th>\n",
       "      <th>ingredients</th>\n",
       "    </tr>\n",
       "  </thead>\n",
       "  <tbody>\n",
       "    <tr>\n",
       "      <th>0</th>\n",
       "      <td>2218774</td>\n",
       "      <td>Arancia di Capri Eau de Toilette: Alcohol Dena...</td>\n",
       "    </tr>\n",
       "    <tr>\n",
       "      <th>1</th>\n",
       "      <td>2044816</td>\n",
       "      <td>unknown</td>\n",
       "    </tr>\n",
       "    <tr>\n",
       "      <th>2</th>\n",
       "      <td>1417567</td>\n",
       "      <td>Alcohol Denat.- Water- Fragrance- Limonene- Li...</td>\n",
       "    </tr>\n",
       "    <tr>\n",
       "      <th>3</th>\n",
       "      <td>1417617</td>\n",
       "      <td>unknown</td>\n",
       "    </tr>\n",
       "    <tr>\n",
       "      <th>4</th>\n",
       "      <td>2218766</td>\n",
       "      <td>Colonia: Alcohol Denat.- Water- Fragrance- Lim...</td>\n",
       "    </tr>\n",
       "  </tbody>\n",
       "</table>\n",
       "</div>"
      ],
      "text/plain": [
       "   product_id                                        ingredients\n",
       "0     2218774  Arancia di Capri Eau de Toilette: Alcohol Dena...\n",
       "1     2044816                                            unknown\n",
       "2     1417567  Alcohol Denat.- Water- Fragrance- Limonene- Li...\n",
       "3     1417617                                            unknown\n",
       "4     2218766  Colonia: Alcohol Denat.- Water- Fragrance- Lim..."
      ]
     },
     "execution_count": 38,
     "metadata": {},
     "output_type": "execute_result"
    }
   ],
   "source": [
    "ingredients.head()"
   ]
  },
  {
   "cell_type": "code",
   "execution_count": 39,
   "metadata": {
    "dc": {
     "key": "4"
    }
   },
   "outputs": [
    {
     "data": {
      "text/html": [
       "<div>\n",
       "<style scoped>\n",
       "    .dataframe tbody tr th:only-of-type {\n",
       "        vertical-align: middle;\n",
       "    }\n",
       "\n",
       "    .dataframe tbody tr th {\n",
       "        vertical-align: top;\n",
       "    }\n",
       "\n",
       "    .dataframe thead th {\n",
       "        text-align: right;\n",
       "    }\n",
       "</style>\n",
       "<table border=\"1\" class=\"dataframe\">\n",
       "  <thead>\n",
       "    <tr style=\"text-align: right;\">\n",
       "      <th></th>\n",
       "      <th>sub_category</th>\n",
       "      <th>broad_category</th>\n",
       "    </tr>\n",
       "  </thead>\n",
       "  <tbody>\n",
       "    <tr>\n",
       "      <th>0</th>\n",
       "      <td>Cologne</td>\n",
       "      <td>Fragrance</td>\n",
       "    </tr>\n",
       "    <tr>\n",
       "      <th>1</th>\n",
       "      <td>Perfume</td>\n",
       "      <td>Fragrance</td>\n",
       "    </tr>\n",
       "    <tr>\n",
       "      <th>2</th>\n",
       "      <td>Eye Palettes</td>\n",
       "      <td>Makeup</td>\n",
       "    </tr>\n",
       "    <tr>\n",
       "      <th>3</th>\n",
       "      <td>Lipstick</td>\n",
       "      <td>Makeup</td>\n",
       "    </tr>\n",
       "    <tr>\n",
       "      <th>4</th>\n",
       "      <td>Highlighter</td>\n",
       "      <td>Makeup</td>\n",
       "    </tr>\n",
       "  </tbody>\n",
       "</table>\n",
       "</div>"
      ],
      "text/plain": [
       "   sub_category broad_category\n",
       "0       Cologne      Fragrance\n",
       "1       Perfume      Fragrance\n",
       "2  Eye Palettes         Makeup\n",
       "3      Lipstick         Makeup\n",
       "4   Highlighter         Makeup"
      ]
     },
     "execution_count": 39,
     "metadata": {},
     "output_type": "execute_result"
    }
   ],
   "source": [
    "cos_cat.head()"
   ]
  },
  {
   "cell_type": "code",
   "execution_count": 40,
   "metadata": {
    "dc": {
     "key": "4"
    },
    "scrolled": true
   },
   "outputs": [],
   "source": [
    "# cosmetics.price.unique()"
   ]
  },
  {
   "cell_type": "code",
   "execution_count": 41,
   "metadata": {
    "collapsed": true,
    "dc": {
     "key": "4"
    }
   },
   "outputs": [],
   "source": [
    "# 1 EUR = 1.22 USD\n",
    "# 1 GBP = 1.42 USD\n",
    "# 1 Yen = 0.01 USD\n",
    "def price_converter(data):\n",
    "    a=0\n",
    "    if data[:3] =='EUR':\n",
    "        a=int(data[4:])*1.22\n",
    "    elif data[:3]=='GBP':\n",
    "        a=int(data[4:])*1.42\n",
    "    elif data[:3]=='YEN':\n",
    "        a=int(data[4:])*0.01\n",
    "    else:\n",
    "        a=int(data[4:])   \n",
    "    return float(round(a,2))\n",
    "# price_converter(\"EUR 164\")    "
   ]
  },
  {
   "cell_type": "code",
   "execution_count": 42,
   "metadata": {
    "collapsed": true,
    "dc": {
     "key": "4"
    }
   },
   "outputs": [],
   "source": [
    "cosmetics[\"price_converted\"]=cosmetics.price.apply(price_converter)\n",
    "# cosmetics[cosmetics.price=='EUR 24']"
   ]
  },
  {
   "cell_type": "code",
   "execution_count": 43,
   "metadata": {
    "dc": {
     "key": "4"
    }
   },
   "outputs": [],
   "source": [
    "# cosmetics.info()\n",
    "# ingredients.info()\n",
    "# cos_cat.info()"
   ]
  },
  {
   "cell_type": "code",
   "execution_count": 44,
   "metadata": {
    "collapsed": true,
    "dc": {
     "key": "4"
    }
   },
   "outputs": [],
   "source": [
    "df_merge=cosmetics.merge(cos_cat,left_on='category',right_on='sub_category',how='left')"
   ]
  },
  {
   "cell_type": "code",
   "execution_count": 45,
   "metadata": {
    "collapsed": true,
    "dc": {
     "key": "4"
    }
   },
   "outputs": [],
   "source": [
    "df_merge=df_merge.merge(ingredients,left_on=\"id\",right_on=\"product_id\",how='left')"
   ]
  },
  {
   "cell_type": "code",
   "execution_count": 46,
   "metadata": {
    "dc": {
     "key": "4"
    }
   },
   "outputs": [],
   "source": [
    "# df_merge.info()\n",
    "df_merge[[\"brand\",'category',\"sub_category\",'broad_category']]=df_merge[[\"brand\",'category',\"sub_category\",'broad_category']].astype('category')\n",
    "# df_merge.info()"
   ]
  },
  {
   "cell_type": "code",
   "execution_count": 47,
   "metadata": {
    "collapsed": true,
    "dc": {
     "key": "4"
    }
   },
   "outputs": [],
   "source": [
    "# df_merge[900:1000][['category','sub_category','broad_category']]/"
   ]
  },
  {
   "cell_type": "code",
   "execution_count": 48,
   "metadata": {
    "collapsed": true,
    "dc": {
     "key": "4"
    }
   },
   "outputs": [],
   "source": [
    "df_merge['ingredients']=df_merge['ingredients'].str.lower()\n",
    "df_merge['brand']=df_merge['brand'].str.lower()\n",
    "df_merge['broad_category']=df_merge['broad_category'].str.lower()"
   ]
  },
  {
   "cell_type": "code",
   "execution_count": 49,
   "metadata": {
    "collapsed": true,
    "dc": {
     "key": "4"
    }
   },
   "outputs": [],
   "source": [
    "#toluene\n",
    "# def toluene_drop(row):\n",
    "#     str_list=row.split()\n",
    "#     if \"toluene\" in str_list:\n",
    "#         return 1\n",
    "#     else:\n",
    "#         return 0\n",
    "# df_merge['toluene']=df_merge['ingredients'].apply(toluene_drop)\n",
    "\n",
    "df_merge[\"toluene\"]= df_merge[\"ingredients\"].str.contains(\"toluene\")"
   ]
  },
  {
   "cell_type": "code",
   "execution_count": 50,
   "metadata": {
    "collapsed": true,
    "dc": {
     "key": "4"
    }
   },
   "outputs": [],
   "source": [
    "df_merge[df_merge['toluene']!=-1][['toluene','ingredients']]\n",
    "# a=df_merge[df_merge['toluene']==False]['ingredients'].str.split()\n",
    "# a.iloc[97,]\n",
    "df_merge = df_merge[df_merge['toluene']==False]\n",
    "# df_merge[df_merge['toluene']==False]['ingredients']"
   ]
  },
  {
   "cell_type": "code",
   "execution_count": 51,
   "metadata": {
    "dc": {
     "key": "4"
    }
   },
   "outputs": [
    {
     "data": {
      "text/plain": [
       "brand\n",
       "clinique              112\n",
       "sephora collection    105\n",
       "tom ford              102\n",
       "dior                   94\n",
       "Name: broad_category, dtype: int64"
      ]
     },
     "execution_count": 51,
     "metadata": {},
     "output_type": "execute_result"
    }
   ],
   "source": [
    "#Find the top four brands by the combined number of fragrance, makeup, \n",
    "# and skincare products produced.\n",
    "\n",
    "df_merge.groupby(['brand'])['broad_category'].count().sort_values(ascending=False).head(4)\n",
    "# df_merge[df_merge.brand=='belif'].count()\n",
    "# origins                36\n",
    "# dr. barbara sturm      29\n",
    "# ren clean skincare     26\n",
    "# the inkey list         26\n",
    "# 36+29+26+26\n",
    "# to_drop=['id',  'category', 'name', 'size', 'price', 'rating',\n",
    "#        'how_to_use', 'online_only', 'limited_edition', \n",
    "#        'sub_category', 'product_id', 'ingredients',\n",
    "#        'toluene']\n",
    "# top=df_merge.drop(to_drop,axis=1,inplace=False)\n",
    "# top.head()\n",
    "\n",
    "# groupby=top.groupby(['brand','broad_category'],axis=0)\n",
    "# groupby=groupby.mean()\n",
    "\n",
    "# groupby=pd.pivot_table(groupby,index=\"brand\",columns='broad_category',values='price_converted')\n",
    "# groupby"
   ]
  },
  {
   "cell_type": "code",
   "execution_count": 52,
   "metadata": {
    "collapsed": true,
    "dc": {
     "key": "4"
    }
   },
   "outputs": [],
   "source": [
    "top_brands =df_merge[df_merge.brand.isin([\"clinique\",\"sephora collection\",\"tom ford\",\"dior\"])]"
   ]
  },
  {
   "cell_type": "code",
   "execution_count": 53,
   "metadata": {
    "dc": {
     "key": "4"
    }
   },
   "outputs": [],
   "source": [
    "# top_brands.brand.value_counts()"
   ]
  },
  {
   "cell_type": "code",
   "execution_count": 54,
   "metadata": {
    "collapsed": true,
    "dc": {
     "key": "4"
    }
   },
   "outputs": [],
   "source": [
    "brand_prices=top_brands.groupby(['broad_category','brand'])['price_converted'].mean()"
   ]
  },
  {
   "cell_type": "code",
   "execution_count": 55,
   "metadata": {
    "dc": {
     "key": "4"
    }
   },
   "outputs": [],
   "source": [
    "# df_merge.broad_category.value_counts()"
   ]
  },
  {
   "cell_type": "code",
   "execution_count": 56,
   "metadata": {
    "dc": {
     "key": "4"
    }
   },
   "outputs": [],
   "source": [
    "# top_brands.category.value_counts()"
   ]
  },
  {
   "cell_type": "code",
   "execution_count": 57,
   "metadata": {
    "dc": {
     "key": "4"
    }
   },
   "outputs": [
    {
     "data": {
      "text/plain": [
       "broad_category  brand             \n",
       "fragrance       clinique               58.000000\n",
       "                dior                   92.850714\n",
       "                sephora collection     17.000000\n",
       "                tom ford              182.703125\n",
       "makeup          clinique               24.076923\n",
       "                dior                   39.121333\n",
       "                sephora collection     16.827586\n",
       "                tom ford               61.354839\n",
       "skincare        clinique               36.897059\n",
       "                dior                   88.077222\n",
       "                sephora collection     10.043478\n",
       "                tom ford               74.857143\n",
       "Name: price_converted, dtype: float64"
      ]
     },
     "execution_count": 57,
     "metadata": {},
     "output_type": "execute_result"
    }
   ],
   "source": [
    "brand_prices"
   ]
  },
  {
   "cell_type": "code",
   "execution_count": 58,
   "metadata": {
    "dc": {
     "key": "4"
    }
   },
   "outputs": [],
   "source": [
    "# type(brand_prices)"
   ]
  },
  {
   "cell_type": "code",
   "execution_count": 59,
   "metadata": {
    "collapsed": true,
    "dc": {
     "key": "4"
    }
   },
   "outputs": [],
   "source": [
    "brand_prices=pd.DataFrame(brand_prices)"
   ]
  },
  {
   "cell_type": "code",
   "execution_count": 60,
   "metadata": {
    "collapsed": true,
    "dc": {
     "key": "4"
    }
   },
   "outputs": [],
   "source": [
    "brand_prices=brand_prices.reset_index(drop=False,inplace=False)"
   ]
  },
  {
   "cell_type": "code",
   "execution_count": 61,
   "metadata": {
    "collapsed": true,
    "dc": {
     "key": "4"
    }
   },
   "outputs": [],
   "source": [
    "# brand_prices=brand_prices.set_index('brand')\n",
    "# brand_prices.index.names=[None]\n",
    "# brand_prices.columns\n",
    "# brand_prices"
   ]
  },
  {
   "cell_type": "code",
   "execution_count": 62,
   "metadata": {
    "collapsed": true,
    "dc": {
     "key": "4"
    }
   },
   "outputs": [],
   "source": [
    "brand_prices=pd.pivot_table(brand_prices,index=\"brand\",columns='broad_category',values='price_converted')"
   ]
  },
  {
   "cell_type": "code",
   "execution_count": 63,
   "metadata": {
    "collapsed": true,
    "dc": {
     "key": "4"
    }
   },
   "outputs": [],
   "source": [
    "brand_prices.columns.name=''\n",
    "brand_prices.index.name=''"
   ]
  },
  {
   "cell_type": "code",
   "execution_count": 64,
   "metadata": {
    "collapsed": true,
    "dc": {
     "key": "4"
    }
   },
   "outputs": [],
   "source": [
    "brand_prices.fillna(0,inplace=True)"
   ]
  },
  {
   "cell_type": "code",
   "execution_count": 65,
   "metadata": {
    "dc": {
     "key": "4"
    }
   },
   "outputs": [],
   "source": [
    "# brand_prices['Makeup']=0.00"
   ]
  },
  {
   "cell_type": "code",
   "execution_count": 66,
   "metadata": {
    "dc": {
     "key": "4"
    }
   },
   "outputs": [],
   "source": [
    "brand_prices.columns.values[0]='Fragrance'\n",
    "brand_prices.columns.values[1]='Makeup'\n",
    "brand_prices.columns.values[2]=\"Skincare\""
   ]
  },
  {
   "cell_type": "code",
   "execution_count": 67,
   "metadata": {
    "dc": {
     "key": "4"
    }
   },
   "outputs": [
    {
     "data": {
      "text/html": [
       "<div>\n",
       "<style scoped>\n",
       "    .dataframe tbody tr th:only-of-type {\n",
       "        vertical-align: middle;\n",
       "    }\n",
       "\n",
       "    .dataframe tbody tr th {\n",
       "        vertical-align: top;\n",
       "    }\n",
       "\n",
       "    .dataframe thead th {\n",
       "        text-align: right;\n",
       "    }\n",
       "</style>\n",
       "<table border=\"1\" class=\"dataframe\">\n",
       "  <thead>\n",
       "    <tr style=\"text-align: right;\">\n",
       "      <th></th>\n",
       "      <th>Fragrance</th>\n",
       "      <th>Makeup</th>\n",
       "      <th>Skincare</th>\n",
       "    </tr>\n",
       "    <tr>\n",
       "      <th></th>\n",
       "      <th></th>\n",
       "      <th></th>\n",
       "      <th></th>\n",
       "    </tr>\n",
       "  </thead>\n",
       "  <tbody>\n",
       "    <tr>\n",
       "      <th>clinique</th>\n",
       "      <td>58.00</td>\n",
       "      <td>24.08</td>\n",
       "      <td>36.90</td>\n",
       "    </tr>\n",
       "    <tr>\n",
       "      <th>dior</th>\n",
       "      <td>92.85</td>\n",
       "      <td>39.12</td>\n",
       "      <td>88.08</td>\n",
       "    </tr>\n",
       "    <tr>\n",
       "      <th>sephora collection</th>\n",
       "      <td>17.00</td>\n",
       "      <td>16.83</td>\n",
       "      <td>10.04</td>\n",
       "    </tr>\n",
       "    <tr>\n",
       "      <th>tom ford</th>\n",
       "      <td>182.70</td>\n",
       "      <td>61.35</td>\n",
       "      <td>74.86</td>\n",
       "    </tr>\n",
       "  </tbody>\n",
       "</table>\n",
       "</div>"
      ],
      "text/plain": [
       "                    Fragrance  Makeup  Skincare\n",
       "                                               \n",
       "clinique                58.00   24.08     36.90\n",
       "dior                    92.85   39.12     88.08\n",
       "sephora collection      17.00   16.83     10.04\n",
       "tom ford               182.70   61.35     74.86"
      ]
     },
     "execution_count": 67,
     "metadata": {},
     "output_type": "execute_result"
    }
   ],
   "source": [
    "brand_prices[\"Fragrance\"]=brand_prices[\"Fragrance\"].apply(lambda x:round(x,2))\n",
    "brand_prices[\"Makeup\"]=brand_prices[\"Makeup\"].apply(lambda x:round(x,2))\n",
    "brand_prices[\"Skincare\"]=brand_prices[\"Skincare\"].apply(lambda x:round(x,2))\n",
    "brand_prices"
   ]
  }
 ],
 "metadata": {
  "kernelspec": {
   "display_name": "Python 3",
   "language": "python",
   "name": "python3"
  },
  "language_info": {
   "codemirror_mode": {
    "name": "ipython",
    "version": 3
   },
   "file_extension": ".py",
   "mimetype": "text/x-python",
   "name": "python",
   "nbconvert_exporter": "python",
   "pygments_lexer": "ipython3",
   "version": "3.8.3"
  }
 },
 "nbformat": 4,
 "nbformat_minor": 2
}
